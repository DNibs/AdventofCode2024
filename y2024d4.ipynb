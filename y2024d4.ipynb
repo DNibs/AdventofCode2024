{
 "cells": [
  {
   "cell_type": "markdown",
   "metadata": {},
   "source": [
    "Day 4 Problem 1\n",
    "\n",
    "XMAS Crossword Search\n",
    "\n",
    "Given a long string ordered like a crosswrod search, find how many times XMAS appears.\n",
    "\n",
    "Can be horizontal, vertical, diagonal, written backwards, or even overlapping other words.\n",
    "\n",
    "Notes:\n",
    "\n",
    "Turn long string into 2d array.\n",
    "\n",
    "Build 'X M A S' by checking indices along each direction. MUST CHECK BOUNDARY CONDITIONS."
   ]
  }
 ],
 "metadata": {
  "language_info": {
   "name": "python"
  }
 },
 "nbformat": 4,
 "nbformat_minor": 2
}
