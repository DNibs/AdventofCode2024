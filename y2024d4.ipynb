{
 "cells": [
  {
   "cell_type": "markdown",
   "metadata": {},
   "source": [
    "Day 4 Problem 1\n",
    "\n",
    "XMAS Crossword Search\n",
    "\n",
    "Given a long string ordered like a crosswrod search, find how many times XMAS appears.\n",
    "\n",
    "Can be horizontal, vertical, diagonal, written backwards, or even overlapping other words.\n",
    "\n",
    "Notes:\n",
    "\n",
    "Turn long string into 2d array.\n",
    "\n",
    "Build 'X M A S' by checking indices along each direction. Eight directions - up, down, left, right, diag upright, diag downright, diag upleft, diag downleft. Build word, if word == xmas, add to count.\n",
    "\n",
    "MUST CHECK BOUNDARY CONDITIONS. Use \"try\", and if error, continue.\n",
    "\n",
    "\n",
    "code:\n",
    "\n",
    "function - given indices and 2d array, check for xmas along 8 directions. use try to check boundaries\n",
    "\n",
    "import txt into 2d array\n",
    "\n",
    "for i, j in array - run fuction"
   ]
  },
  {
   "cell_type": "code",
   "execution_count": 13,
   "metadata": {},
   "outputs": [],
   "source": [
    "# read in file line by line, then turn each character into a sublist\n",
    "# this essentially creates a 2d array\n",
    "import numpy as np\n",
    "\n",
    "with open('y2024d4_input.txt', 'r') as f:\n",
    "    lines = f.readlines()\n",
    "\n",
    "char_array = np.array([list(chars) for chars in lines], dtype=str)\n",
    "char_array = char_array[:, :-1]\n"
   ]
  },
  {
   "cell_type": "code",
   "execution_count": 14,
   "metadata": {},
   "outputs": [
    {
     "name": "stdout",
     "output_type": "stream",
     "text": [
      "[['X' 'X' 'X' ... 'M' 'M' 'M']\n",
      " ['A' 'M' 'S' ... 'S' 'A' 'M']\n",
      " ['M' 'A' 'A' ... 'S' 'A' 'S']\n",
      " ...\n",
      " ['M' 'A' 'S' ... 'A' 'A' 'A']\n",
      " ['A' 'M' 'A' ... 'M' 'S' 'M']\n",
      " ['S' 'X' 'S' ... 'A' 'M' 'X']]\n"
     ]
    }
   ],
   "source": [
    "print(char_array)"
   ]
  },
  {
   "cell_type": "code",
   "execution_count": 9,
   "metadata": {},
   "outputs": [
    {
     "name": "stdout",
     "output_type": "stream",
     "text": [
      "[(-1, -1), (-1, 0), (-1, 1), (0, -1), (0, 1), (1, -1), (1, 0), (1, 1)]\n"
     ]
    }
   ],
   "source": [
    "move_along_axis = [-1, 0, 1]\n",
    "pairs = [(m, n) for m in move_along_axis for n in move_along_axis]\n",
    "pairs.remove((0,0))\n",
    "print(pairs)"
   ]
  },
  {
   "cell_type": "code",
   "execution_count": null,
   "metadata": {},
   "outputs": [],
   "source": [
    "\n",
    "def check_all_directions(coords, arr):\n",
    "    x, y = coords\n",
    "    move_along_axis = [-1, 0, 1]\n",
    "    pairs = [(m, n) for m in move_along_axis for n in move_along_axis]\n",
    "    pairs.remove((0,0))\n",
    "\n"
   ]
  }
 ],
 "metadata": {
  "kernelspec": {
   "display_name": "base",
   "language": "python",
   "name": "python3"
  },
  "language_info": {
   "codemirror_mode": {
    "name": "ipython",
    "version": 3
   },
   "file_extension": ".py",
   "mimetype": "text/x-python",
   "name": "python",
   "nbconvert_exporter": "python",
   "pygments_lexer": "ipython3",
   "version": "3.9.20"
  }
 },
 "nbformat": 4,
 "nbformat_minor": 2
}
