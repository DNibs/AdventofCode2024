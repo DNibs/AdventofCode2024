{
 "cells": [
  {
   "cell_type": "markdown",
   "metadata": {},
   "source": [
    "Day 4 Problem 1\n",
    "\n",
    "XMAS Crossword Search\n",
    "\n",
    "Given a long string ordered like a crosswrod search, find how many times XMAS appears.\n",
    "\n",
    "Can be horizontal, vertical, diagonal, written backwards, or even overlapping other words.\n",
    "\n",
    "Notes:\n",
    "\n",
    "Turn long string into 2d array.\n",
    "\n",
    "Build 'X M A S' by checking indices along each direction. Eight directions - up, down, left, right, diag upright, diag downright, diag upleft, diag downleft. Build word, if word == xmas, add to count.\n",
    "\n",
    "MUST CHECK BOUNDARY CONDITIONS. Use \"try\", and if error, continue.\n",
    "\n",
    "\n",
    "code:\n",
    "\n",
    "function - given indices and 2d array, check for xmas along 8 directions. use try to check boundaries\n",
    "\n",
    "import txt into 2d array\n",
    "\n",
    "for i, j in array - run fuction"
   ]
  },
  {
   "cell_type": "code",
   "execution_count": null,
   "metadata": {
    "vscode": {
     "languageId": "plaintext"
    }
   },
   "outputs": [],
   "source": []
  }
 ],
 "metadata": {
  "language_info": {
   "name": "python"
  }
 },
 "nbformat": 4,
 "nbformat_minor": 2
}
