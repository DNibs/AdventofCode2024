{
 "cells": [
  {
   "cell_type": "markdown",
   "id": "71fc4d0e-ad36-40b2-a012-60677bebefcd",
   "metadata": {},
   "source": [
    "Day 2\n",
    "Problem 1\n",
    "For input, each row is considered a \"report\".\n",
    "Each number within a report is considered a \"level\".\n",
    "Count the reports where the levels follow both of the following rules:\n",
    "-Levels are either all increasing or decreasing within a report\n",
    "-Adjacent levels differ by at least one and no more than three"
   ]
  },
  {
   "cell_type": "code",
   "execution_count": 19,
   "id": "cf66d015-b55e-4ba0-8dff-c425d9205934",
   "metadata": {},
   "outputs": [],
   "source": [
    "# Read in file\n",
    "with open('y2024d2_input.txt', 'r') as f:\n",
    "    lines = f.readlines()\n"
   ]
  },
  {
   "cell_type": "code",
   "execution_count": 24,
   "id": "2ff1a332-4b5f-46e5-a113-d6227a12b46b",
   "metadata": {},
   "outputs": [],
   "source": [
    "# split each report into levels\n",
    "# append the list of levels into a list of  reports\n",
    "reports = []\n",
    "for line in lines:\n",
    "    report = line.strip().split(' ')\n",
    "    report = [int(level) for level in report] \n",
    "    reports.append(report)\n"
   ]
  },
  {
   "cell_type": "code",
   "execution_count": 28,
   "id": "318b4245-a8ff-43c1-b997-1f49e097bfb4",
   "metadata": {},
   "outputs": [
    {
     "name": "stdout",
     "output_type": "stream",
     "text": [
      "479\n"
     ]
    }
   ],
   "source": [
    "# apply tests to each report and count those that pass\n",
    "# note that tests are really two tests each\n",
    "count = 0\n",
    "for report in reports:\n",
    "    # calculate differences between adjacent levels\n",
    "    level_difs = []\n",
    "    for i in range(len(report)-1):\n",
    "        level_difs.append(report[i+1] - report[i])\n",
    "    # apply tests\n",
    "    greater_than_three = any(abs(level_dif) > 3 for level_dif in level_difs)\n",
    "    less_than_one = any(abs(level_dif) < 1 for level_dif in level_difs)\n",
    "    positive = any(level_dif > 0 for level_dif in level_difs)\n",
    "    negative = any(level_dif < 0 for level_dif in level_difs)\n",
    "    if not greater_than_three and not less_than_one:\n",
    "        if not (positive == negative): # means both increasing and decreasing\n",
    "            count += 1\n",
    "\n",
    "print(count)"
   ]
  }
 ],
 "metadata": {
  "kernelspec": {
   "display_name": "Python 3 (ipykernel)",
   "language": "python",
   "name": "python3"
  },
  "language_info": {
   "codemirror_mode": {
    "name": "ipython",
    "version": 3
   },
   "file_extension": ".py",
   "mimetype": "text/x-python",
   "name": "python",
   "nbconvert_exporter": "python",
   "pygments_lexer": "ipython3",
   "version": "3.8.20"
  }
 },
 "nbformat": 4,
 "nbformat_minor": 5
}
