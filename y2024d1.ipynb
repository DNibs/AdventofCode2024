{
 "cells": [
  {
   "cell_type": "markdown",
   "id": "49e7bc97-5642-44a3-8e61-da92b40dd71b",
   "metadata": {},
   "source": [
    "Year 2024, Day 1, Problem 1\n",
    "Find the sum of differences between two ordered lists\n",
    "https://adventofcode.com/2024/day/1"
   ]
  },
  {
   "cell_type": "code",
   "execution_count": null,
   "id": "96dbf9f1-6415-42aa-a298-d9e2a94484b5",
   "metadata": {},
   "outputs": [],
   "source": [
    "# upload lists from CSV\n",
    "with open('y2024d1_input.txt', 'r') as f:\n",
    "    lines = f.readlines()\n"
   ]
  },
  {
   "cell_type": "code",
   "execution_count": null,
   "id": "426242cb-f849-4f5a-9d93-1f354ee8df32",
   "metadata": {},
   "outputs": [],
   "source": [
    "# split list into two lists\n",
    "# convert from strings to numbers\n",
    "list_a = []\n",
    "list_b = []\n",
    "\n",
    "for line in lines:\n",
    "    list_a.append(float(line.split(' ', 1)[0]))\n",
    "    list_b.append(float(line.split(' ', 1)[1].strip()))"
   ]
  },
  {
   "cell_type": "code",
   "execution_count": null,
   "id": "2f33faac-af68-40a5-be91-45aa821ab3ea",
   "metadata": {},
   "outputs": [],
   "source": [
    "# sort lists\n",
    "list_a_sorted = sorted(list_a)\n",
    "list_b_sorted = sorted(list_b)\n"
   ]
  },
  {
   "cell_type": "code",
   "execution_count": 18,
   "id": "238b1f8c-4cd3-4a73-bba2-327683ec12c7",
   "metadata": {},
   "outputs": [
    {
     "name": "stdout",
     "output_type": "stream",
     "text": [
      "2430334.0\n"
     ]
    }
   ],
   "source": [
    "# add the difference of each sorted value\n",
    "# note we need the absolute difference\n",
    "sum_of_dif = 0\n",
    "for i in range(len(list_a_sorted)):\n",
    "    sum_of_dif += abs(list_a_sorted[i] - list_b_sorted[i])\n",
    "\n",
    "print(sum_of_dif)"
   ]
  },
  {
   "cell_type": "markdown",
   "id": "2aefb473-8031-41a6-8dd8-00aaec70408e",
   "metadata": {},
   "source": [
    "Problem 2\n",
    "Find the sum of \"Similarity Scores\"\n",
    "For each number in list_a, multiply it by the number of times it appears in list b.\n",
    "Sum the similarity scores. "
   ]
  },
  {
   "cell_type": "code",
   "execution_count": 19,
   "id": "41ae5767-906e-40bd-b777-58e918e91eef",
   "metadata": {},
   "outputs": [
    {
     "name": "stdout",
     "output_type": "stream",
     "text": [
      "28786472.0\n"
     ]
    }
   ],
   "source": [
    "similarity_score = 0\n",
    "for i in range(len(list_a)):\n",
    "    count = list_b.count(list_a[i])\n",
    "    similarity_score += list_a[i] * count\n",
    "\n",
    "print(similarity_score)"
   ]
  }
 ],
 "metadata": {
  "kernelspec": {
   "display_name": "Python 3 (ipykernel)",
   "language": "python",
   "name": "python3"
  },
  "language_info": {
   "codemirror_mode": {
    "name": "ipython",
    "version": 3
   },
   "file_extension": ".py",
   "mimetype": "text/x-python",
   "name": "python",
   "nbconvert_exporter": "python",
   "pygments_lexer": "ipython3",
   "version": "3.8.20"
  }
 },
 "nbformat": 4,
 "nbformat_minor": 5
}
